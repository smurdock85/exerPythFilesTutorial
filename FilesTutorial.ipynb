{
 "cells": [
  {
   "cell_type": "code",
   "execution_count": 1,
   "source": [
    "#Files Tutorial Assignment \n",
    "\n",
    "#Opening files \n",
    "f = open(\"test.txt\", \"r\")\n",
    "f = open(\"test.txt\", \"w\")\n",
    "f = open(\"test.txt\", \"a\")\n",
    "f = open(\"test.txt\", \"r+\")"
   ],
   "outputs": [],
   "metadata": {}
  },
  {
   "cell_type": "code",
   "execution_count": 2,
   "source": [
    "#Print name of file\n",
    "print(f.name)\n",
    "print(f.mode)\n",
    "\n",
    "#Close file\n",
    "f.close()"
   ],
   "outputs": [
    {
     "output_type": "stream",
     "name": "stdout",
     "text": [
      "test.txt\n",
      "r+\n"
     ]
    }
   ],
   "metadata": {}
  },
  {
   "cell_type": "code",
   "execution_count": 3,
   "source": [
    "#Reading Files\n",
    "with open(\"test.txt\", \"r\") as f:\n",
    "\tpass\n",
    "\n",
    "\t#Small Files\n",
    "\tf_contents = f.read()\n",
    "\tprint(f_contents)\n",
    "\n",
    "\t#Big Files\n",
    "\tf_contents = f.readlines()\n",
    "\tprint(f_contents)\n",
    "\n",
    "    #With the extra lines\n",
    "\tf_contents = f.readline()\n",
    "\tprint(f_contents)\n",
    "\tf_contents = f.readline()\n",
    "\tprint(f_contents)\n",
    "\n",
    "\t#Without the extra lines\n",
    "\tf_contents = f.readline()\n",
    "\tprint(f_contents, end = '')\n",
    "\tf_contents = f.readline()\n",
    "\tprint(f_contents, end = '')\n",
    "\n",
    "\t#Iterating through the file\n",
    "\tfor line in f:\n",
    "\t\tprint(line, end = '')\n",
    "\n",
    "\t#Printing by characters\n",
    "\tf_contents = f.read(100)\n",
    "\tprint(f_contents, end = '')\n",
    "\tf_contents = f.read(100)\n",
    "\tprint(f_contents, end = '')\n",
    "\tf_contents = f.read(100)\n",
    "\tprint(f_contents, end = '')\n",
    "\n",
    "\t#Iterating small\n",
    "\tsize_to_read = 100\n",
    "\tf_contents = f.read(size_to_read)\n",
    "\twhile len(f_contents) > 0:\n",
    "\t\tprint(f_contents)\n",
    "\t\tf_contents = f.read(size_to_read)\n",
    "\n",
    "\t#Iterating with 10 characters\n",
    "\tsize_to_read = 10\n",
    "\tf_contents = f.read(size_to_read)\n",
    "\tprint(f_contents, end = '')\n",
    "\tf.seek(0)\n",
    "\tf_contents = f.read(size_to_read)\n",
    "\tprint(f_contents, end = '')\n",
    "\tprint(f.tell())\n",
    "\twhile len(f_contents) > 0:\n",
    "\t\tprint(f_contents, end = '*')\n",
    "\t\tf_contents = f.read(size_to_read)\n",
    "print(f.mode)\n",
    "print(f.closed)\n",
    "print(f.read())"
   ],
   "outputs": [
    {
     "output_type": "stream",
     "name": "stdout",
     "text": [
      "\n",
      "[]\n",
      "\n",
      "\n",
      "0\n",
      "r\n",
      "True\n"
     ]
    },
    {
     "output_type": "error",
     "ename": "ValueError",
     "evalue": "I/O operation on closed file.",
     "traceback": [
      "\u001b[0;31m---------------------------------------------------------------------------\u001b[0m",
      "\u001b[0;31mValueError\u001b[0m                                Traceback (most recent call last)",
      "\u001b[0;32m<ipython-input-3-56cdb8a53235>\u001b[0m in \u001b[0;36m<module>\u001b[0;34m\u001b[0m\n\u001b[1;32m     55\u001b[0m \u001b[0mprint\u001b[0m\u001b[0;34m(\u001b[0m\u001b[0mf\u001b[0m\u001b[0;34m.\u001b[0m\u001b[0mmode\u001b[0m\u001b[0;34m)\u001b[0m\u001b[0;34m\u001b[0m\u001b[0;34m\u001b[0m\u001b[0m\n\u001b[1;32m     56\u001b[0m \u001b[0mprint\u001b[0m\u001b[0;34m(\u001b[0m\u001b[0mf\u001b[0m\u001b[0;34m.\u001b[0m\u001b[0mclosed\u001b[0m\u001b[0;34m)\u001b[0m\u001b[0;34m\u001b[0m\u001b[0;34m\u001b[0m\u001b[0m\n\u001b[0;32m---> 57\u001b[0;31m \u001b[0mprint\u001b[0m\u001b[0;34m(\u001b[0m\u001b[0mf\u001b[0m\u001b[0;34m.\u001b[0m\u001b[0mread\u001b[0m\u001b[0;34m(\u001b[0m\u001b[0;34m)\u001b[0m\u001b[0;34m)\u001b[0m\u001b[0;34m\u001b[0m\u001b[0;34m\u001b[0m\u001b[0m\n\u001b[0m",
      "\u001b[0;31mValueError\u001b[0m: I/O operation on closed file."
     ]
    }
   ],
   "metadata": {}
  },
  {
   "cell_type": "code",
   "execution_count": null,
   "source": [
    "\n",
    "##Writing Files!\n",
    "\n",
    "#The Error\n",
    "with open(\"test.txt\", \"r\") as f:\n",
    "\tf.write(\"Test\")\n",
    "\n",
    "#Writing Starts\n",
    "with open(\"test2.txt\", \"w\") as f:\n",
    "\tpass\n",
    "\tf.write(\"Test\")\n",
    "\tf.seek(0)\n",
    "\tf.write(\"Test\")\n",
    "\tf.seek(\"R\")\n",
    "\n",
    "#Copying Files\n",
    "with open(\"test.txt\", \"r\") as rf:\n",
    "\twith open(\"test_copy.txt\", \"w\") as wf:\n",
    "\t\tfor line in rf:\n",
    "\t\t\twf.write(line)\n",
    "\n"
   ],
   "outputs": [],
   "metadata": {}
  },
  {
   "cell_type": "code",
   "execution_count": null,
   "source": [
    "##Copying image!\n",
    "\n",
    "#The Error\n",
    "with open(\"shelby.jpg\", \"r\") as rf:\n",
    "\twith open(\"shelby_copy.jpg\", \"w\") as wf:\n",
    "\t\tfor line in rf:\n",
    "\t\t\twf.write(line)\n",
    "\n",
    "#Copying the image starts, without chunks\n",
    "with open(\"shelby.jpg\", \"rb\") as rf:\n",
    "\twith open(\"shelby_copy.jpg\", \"wb\") as wf:\n",
    "\t\tfor line in rf:\n",
    "\t\t\twf.write(line)\n",
    "\n",
    "#Copying the image with chunks\n",
    "with open(\"shelby.jpg\", \"rb\") as rf:\n",
    "\twith open(\"shelby_copy.jpg\", \"wb\") as wf:\n",
    "\t\tchunk_size = 4096\n",
    "        rf_chunk = rf.read(chunk_size)\n",
    "        while len(rf_chunk) > 0:\n",
    "            wf.write(rf_chunk)\n",
    "            rf_chunk = rf.read(chunk_size)\n",
    "\n",
    "##THE END"
   ],
   "outputs": [],
   "metadata": {}
  }
 ],
 "metadata": {
  "interpreter": {
   "hash": "77d8551fb9cf59cc84e7f8ee2c524f094c81881df7966ae554497510c52b5d47"
  },
  "kernelspec": {
   "name": "python3",
   "display_name": "Python 3.8.8 64-bit ('base': conda)"
  },
  "language_info": {
   "codemirror_mode": {
    "name": "ipython",
    "version": 3
   },
   "file_extension": ".py",
   "mimetype": "text/x-python",
   "name": "python",
   "nbconvert_exporter": "python",
   "pygments_lexer": "ipython3",
   "version": "3.8.8"
  }
 },
 "nbformat": 4,
 "nbformat_minor": 2
}