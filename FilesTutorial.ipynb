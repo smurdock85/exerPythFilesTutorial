{
 "cells": [
  {
   "cell_type": "code",
   "execution_count": null,
   "source": [
    "# File Objects\n",
    "f = open('test.txt' , '')"
   ],
   "outputs": [],
   "metadata": {}
  }
 ],
 "metadata": {
  "orig_nbformat": 4,
  "language_info": {
   "name": "python"
  }
 },
 "nbformat": 4,
 "nbformat_minor": 2
}